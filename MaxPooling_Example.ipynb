{
  "nbformat": 4,
  "nbformat_minor": 0,
  "metadata": {
    "colab": {
      "name": "MaxPooling_Example.ipynb",
      "provenance": [],
      "collapsed_sections": [],
      "authorship_tag": "ABX9TyPHEBhjEndPahP5FbVdyUjE",
      "include_colab_link": true
    },
    "kernelspec": {
      "name": "python3",
      "display_name": "Python 3"
    }
  },
  "cells": [
    {
      "cell_type": "markdown",
      "metadata": {
        "id": "view-in-github",
        "colab_type": "text"
      },
      "source": [
        "<a href=\"https://colab.research.google.com/github/rahulsinghshekhawat/Google-Colab/blob/main/MaxPooling_Example.ipynb\" target=\"_parent\"><img src=\"https://colab.research.google.com/assets/colab-badge.svg\" alt=\"Open In Colab\"/></a>"
      ]
    },
    {
      "cell_type": "code",
      "metadata": {
        "id": "VtAmg5ySxHjD"
      },
      "source": [
        "import numpy as np \r\n",
        "from keras.models import Sequential \r\n",
        "from keras.layers import MaxPooling2D \r\n",
        "from keras.layers import AveragePooling2D \r\n"
      ],
      "execution_count": 43,
      "outputs": []
    },
    {
      "cell_type": "code",
      "metadata": {
        "colab": {
          "base_uri": "https://localhost:8080/"
        },
        "id": "460dbDeVxIhq",
        "outputId": "1b85e299-38ba-4a58-9228-a8237f02778c"
      },
      "source": [
        "# define input image \r\n",
        "image = np.array([[2, 2, 7, 3], \r\n",
        "\t\t\t\t[9, 4, 6, 1], \r\n",
        "\t\t\t\t[8, 5, 2, 4], \r\n",
        "\t\t\t\t[3, 1, 2, 6]]) \r\n",
        "image.shape"
      ],
      "execution_count": 18,
      "outputs": [
        {
          "output_type": "execute_result",
          "data": {
            "text/plain": [
              "(4, 4)"
            ]
          },
          "metadata": {
            "tags": []
          },
          "execution_count": 18
        }
      ]
    },
    {
      "cell_type": "code",
      "metadata": {
        "id": "kUkIT1y-yOeC"
      },
      "source": [
        "# import numpy as np\r\n",
        "\r\n",
        "# arr = np.array([1, 2, 3, 4, 5, 6, 7, 8, 9, 10, 11, 12])\r\n",
        "\r\n",
        "# newarr = arr.reshape(4, 3,1)\r\n",
        "\r\n",
        "# print(newarr)"
      ],
      "execution_count": 19,
      "outputs": []
    },
    {
      "cell_type": "code",
      "metadata": {
        "id": "7rG_G8hbyjwI"
      },
      "source": [
        "# import numpy as np\r\n",
        "\r\n",
        "# arr = np.array([1, 2, 3, 4, 5, 6, 7, 8, 9, 10, 11, 12])\r\n",
        "\r\n",
        "# newarr = arr.reshape(1,2, 3, 2)\r\n",
        "\r\n",
        "# print(newarr)"
      ],
      "execution_count": 20,
      "outputs": []
    },
    {
      "cell_type": "code",
      "metadata": {
        "colab": {
          "base_uri": "https://localhost:8080/"
        },
        "id": "Jbf0eUP1x5U7",
        "outputId": "f2af0237-d08d-41dd-f253-d6f11b9f37eb"
      },
      "source": [
        "image = image.reshape(1, 4, 4, 1) \r\n",
        "image"
      ],
      "execution_count": 25,
      "outputs": [
        {
          "output_type": "execute_result",
          "data": {
            "text/plain": [
              "array([[[[2],\n",
              "         [2],\n",
              "         [7],\n",
              "         [3]],\n",
              "\n",
              "        [[9],\n",
              "         [4],\n",
              "         [6],\n",
              "         [1]],\n",
              "\n",
              "        [[8],\n",
              "         [5],\n",
              "         [2],\n",
              "         [4]],\n",
              "\n",
              "        [[3],\n",
              "         [1],\n",
              "         [2],\n",
              "         [6]]]])"
            ]
          },
          "metadata": {
            "tags": []
          },
          "execution_count": 25
        }
      ]
    },
    {
      "cell_type": "code",
      "metadata": {
        "colab": {
          "base_uri": "https://localhost:8080/",
          "height": 269
        },
        "id": "-iT8TBVixkho",
        "outputId": "b364e513-2237-4ff7-ed67-25296d4c28fa"
      },
      "source": [
        "from matplotlib import pyplot as plt\r\n",
        "plt.imshow(image[0][3], interpolation='nearest')\r\n",
        "plt.show()"
      ],
      "execution_count": 28,
      "outputs": [
        {
          "output_type": "display_data",
          "data": {
            "image/png": "[encoded data removed]",
            "text/plain": [
              "<Figure size 432x288 with 1 Axes>"
            ]
          },
          "metadata": {
            "tags": [],
            "needs_background": "light"
          }
        }
      ]
    },
    {
      "cell_type": "code",
      "metadata": {
        "id": "AUPrfF_IzUVs"
      },
      "source": [
        "\r\n",
        "# define model containing just a single max pooling layer \r\n",
        "model = Sequential( \r\n",
        "\t[MaxPooling2D(pool_size = 2, strides = 2)]) \r\n"
      ],
      "execution_count": 50,
      "outputs": []
    },
    {
      "cell_type": "code",
      "metadata": {
        "id": "xNhJ_WCbzYRS"
      },
      "source": [
        "output = model.predict(image)"
      ],
      "execution_count": 51,
      "outputs": []
    },
    {
      "cell_type": "code",
      "metadata": {
        "id": "Ze1upAGCzaEC"
      },
      "source": [
        ""
      ],
      "execution_count": 32,
      "outputs": []
    },
    {
      "cell_type": "code",
      "metadata": {
        "colab": {
          "base_uri": "https://localhost:8080/"
        },
        "id": "NMJndlUxxCkQ",
        "outputId": "4b560689-af69-40f9-aedd-5afa14e9ac8f"
      },
      "source": [
        "\r\n",
        "\r\n",
        "# print output image \r\n",
        "output = np.squeeze(output) \r\n",
        "print(output) \r\n"
      ],
      "execution_count": 52,
      "outputs": [
        {
          "output_type": "stream",
          "text": [
            "[[9 7]\n",
            " [8 6]]\n"
          ],
          "name": "stdout"
        }
      ]
    }
  ]
}